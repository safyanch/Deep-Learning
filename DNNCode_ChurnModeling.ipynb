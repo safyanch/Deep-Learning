{
 "cells": [
  {
   "cell_type": "code",
   "execution_count": 1,
   "metadata": {
    "id": "D2IliGyI62B0"
   },
   "outputs": [],
   "source": [
    "import tensorflow as tf"
   ]
  },
  {
   "cell_type": "code",
   "execution_count": 2,
   "metadata": {
    "colab": {
     "base_uri": "https://localhost:8080/"
    },
    "id": "4_fyxUHb7GuH",
    "outputId": "2c8a495d-cff8-49f1-b9c2-fa63165b0043"
   },
   "outputs": [
    {
     "name": "stdout",
     "output_type": "stream",
     "text": [
      "2.11.0\n"
     ]
    }
   ],
   "source": [
    "print(tf.__version__)"
   ]
  },
  {
   "cell_type": "code",
   "execution_count": 23,
   "metadata": {
    "id": "LLvV2K-o7KAp"
   },
   "outputs": [],
   "source": [
    "# Importing the libraries\n",
    "import numpy as np\n",
    "import matplotlib.pyplot as plt\n",
    "import pandas as pd"
   ]
  },
  {
   "cell_type": "code",
   "execution_count": 27,
   "metadata": {
    "id": "gHRHobkK7Sxn"
   },
   "outputs": [
    {
     "name": "stdout",
     "output_type": "stream",
     "text": [
      "(10000, 10)\n",
      "(10000,)\n"
     ]
    }
   ],
   "source": [
    "# Importing the dataset\n",
    "dataset = pd.read_csv('Churn_Modelling.csv')\n",
    "X = dataset.iloc[:, 3:13]\n",
    "y = dataset.iloc[:, 13]\n",
    "print(X.shape)\n",
    "print(y.shape)"
   ]
  },
  {
   "cell_type": "code",
   "execution_count": 28,
   "metadata": {
    "id": "T2yS0VL67Ufn"
   },
   "outputs": [],
   "source": [
    "#Create dummy variables\n",
    "geography=pd.get_dummies(X[\"Geography\"],drop_first=True)\n",
    "gender=pd.get_dummies(X['Gender'],drop_first=True)"
   ]
  },
  {
   "cell_type": "code",
   "execution_count": 29,
   "metadata": {
    "id": "Co2rxaFR7Wgo"
   },
   "outputs": [
    {
     "name": "stdout",
     "output_type": "stream",
     "text": [
      "(8000, 11)\n",
      "(8000,)\n"
     ]
    }
   ],
   "source": [
    "## Concatenate the Data Frames\n",
    "\n",
    "X=pd.concat([X,geography,gender],axis=1)\n",
    "\n",
    "## Drop Unnecessary columns\n",
    "X=X.drop(['Geography','Gender'],axis=1)\n",
    "\n",
    "# Splitting the dataset into the Training set and Test set\n",
    "from sklearn.model_selection import train_test_split\n",
    "X_train, X_test, y_train, y_test = train_test_split(X, y, test_size = 0.2, random_state = 0)\n",
    "print(X_train.shape)\n",
    "print(y_train.shape)\n"
   ]
  },
  {
   "cell_type": "code",
   "execution_count": 30,
   "metadata": {
    "id": "GNZrZXy37ZLs"
   },
   "outputs": [
    {
     "name": "stdout",
     "output_type": "stream",
     "text": [
      "(8000, 11)\n"
     ]
    }
   ],
   "source": [
    "# Feature Scaling\n",
    "from sklearn.preprocessing import StandardScaler\n",
    "sc = StandardScaler()\n",
    "X_train = sc.fit_transform(X_train)\n",
    "X_test = sc.transform(X_test)\n",
    "print(X_train.shape)"
   ]
  },
  {
   "cell_type": "code",
   "execution_count": 8,
   "metadata": {
    "id": "uwN3bgie7bvT"
   },
   "outputs": [],
   "source": [
    "# Part 2 - Now let's make the ANN!"
   ]
  },
  {
   "cell_type": "code",
   "execution_count": 31,
   "metadata": {
    "id": "rL_a7vWu7dj1"
   },
   "outputs": [],
   "source": [
    "from tensorflow.keras.models import Sequential\n",
    "from tensorflow.keras.layers import Dense\n",
    "from tensorflow.keras.layers import LeakyReLU,PReLU,ELU\n",
    "from tensorflow.keras.layers import Dropout\n"
   ]
  },
  {
   "cell_type": "code",
   "execution_count": 32,
   "metadata": {
    "id": "VDJwvrbZ7kj4"
   },
   "outputs": [],
   "source": [
    "# Initialising the ANN\n",
    "classifier = Sequential()"
   ]
  },
  {
   "cell_type": "code",
   "execution_count": 33,
   "metadata": {
    "id": "RSZQrU-g7z4N"
   },
   "outputs": [],
   "source": [
    "# Adding the input layer and the first hidden layer\n",
    "classifier.add(Dense(units=11,activation='relu'))"
   ]
  },
  {
   "cell_type": "code",
   "execution_count": 34,
   "metadata": {
    "id": "byszZMvw8RcQ"
   },
   "outputs": [],
   "source": [
    "# Adding the input layer and the first hidden layer\n",
    "classifier.add(Dense(units=6,activation='relu'))"
   ]
  },
  {
   "cell_type": "code",
   "execution_count": 35,
   "metadata": {
    "id": "Mk2slmAX8XUI"
   },
   "outputs": [],
   "source": [
    "# Adding the input layer and the first hidden layer\n",
    "classifier.add(Dense(units=1,activation='relu'))"
   ]
  },
  {
   "cell_type": "code",
   "execution_count": 36,
   "metadata": {
    "id": "F2udThHo8cFt"
   },
   "outputs": [],
   "source": [
    "classifier.compile(optimizer='adam',loss='binary_crossentropy',metrics=['accuracy'])"
   ]
  },
  {
   "cell_type": "code",
   "execution_count": 37,
   "metadata": {
    "colab": {
     "base_uri": "https://localhost:8080/"
    },
    "id": "3qairJAs8fIc",
    "outputId": "0730a4ec-193f-41ae-daff-4ccc7673b142"
   },
   "outputs": [
    {
     "name": "stdout",
     "output_type": "stream",
     "text": [
      "Epoch 1/50\n",
      "536/536 [==============================] - 2s 2ms/step - loss: 2.1591 - accuracy: 0.7554 - val_loss: 1.8330 - val_accuracy: 0.7736\n",
      "Epoch 2/50\n",
      "536/536 [==============================] - 1s 2ms/step - loss: 1.2348 - accuracy: 0.7662 - val_loss: 0.7804 - val_accuracy: 0.7728\n",
      "Epoch 3/50\n",
      "536/536 [==============================] - 1s 2ms/step - loss: 0.6332 - accuracy: 0.7822 - val_loss: 0.6174 - val_accuracy: 0.7906\n",
      "Epoch 4/50\n",
      "536/536 [==============================] - 1s 2ms/step - loss: 0.5578 - accuracy: 0.7925 - val_loss: 0.5762 - val_accuracy: 0.7970\n",
      "Epoch 5/50\n",
      "536/536 [==============================] - 1s 2ms/step - loss: 0.5064 - accuracy: 0.7936 - val_loss: 0.5300 - val_accuracy: 0.7967\n",
      "Epoch 6/50\n",
      "536/536 [==============================] - 1s 2ms/step - loss: 0.4810 - accuracy: 0.7996 - val_loss: 0.5199 - val_accuracy: 0.8001\n",
      "Epoch 7/50\n",
      "536/536 [==============================] - 1s 2ms/step - loss: 0.4742 - accuracy: 0.8063 - val_loss: 0.5107 - val_accuracy: 0.8054\n",
      "Epoch 8/50\n",
      "536/536 [==============================] - 1s 2ms/step - loss: 0.4683 - accuracy: 0.8071 - val_loss: 0.5067 - val_accuracy: 0.8092\n",
      "Epoch 9/50\n",
      "536/536 [==============================] - 1s 2ms/step - loss: 0.4613 - accuracy: 0.8089 - val_loss: 0.5000 - val_accuracy: 0.8126\n",
      "Epoch 10/50\n",
      "536/536 [==============================] - 1s 2ms/step - loss: 0.4519 - accuracy: 0.8140 - val_loss: 0.4827 - val_accuracy: 0.8099\n",
      "Epoch 11/50\n",
      "536/536 [==============================] - 1s 2ms/step - loss: 0.4435 - accuracy: 0.8147 - val_loss: 0.4715 - val_accuracy: 0.8141\n",
      "Epoch 12/50\n",
      "536/536 [==============================] - 1s 2ms/step - loss: 0.4338 - accuracy: 0.8186 - val_loss: 0.4559 - val_accuracy: 0.8152\n",
      "Epoch 13/50\n",
      "536/536 [==============================] - 1s 2ms/step - loss: 0.4230 - accuracy: 0.8272 - val_loss: 0.4400 - val_accuracy: 0.8251\n",
      "Epoch 14/50\n",
      "536/536 [==============================] - 1s 2ms/step - loss: 0.4132 - accuracy: 0.8337 - val_loss: 0.4303 - val_accuracy: 0.8281\n",
      "Epoch 15/50\n",
      "536/536 [==============================] - 1s 2ms/step - loss: 0.4082 - accuracy: 0.8395 - val_loss: 0.4232 - val_accuracy: 0.8330\n",
      "Epoch 16/50\n",
      "536/536 [==============================] - 1s 2ms/step - loss: 0.3995 - accuracy: 0.8425 - val_loss: 0.4266 - val_accuracy: 0.8334\n",
      "Epoch 17/50\n",
      "536/536 [==============================] - 1s 2ms/step - loss: 0.3962 - accuracy: 0.8455 - val_loss: 0.4149 - val_accuracy: 0.8364\n",
      "Epoch 18/50\n",
      "536/536 [==============================] - 1s 2ms/step - loss: 0.3888 - accuracy: 0.8464 - val_loss: 0.4256 - val_accuracy: 0.8410\n",
      "Epoch 19/50\n",
      "536/536 [==============================] - 1s 2ms/step - loss: 0.3870 - accuracy: 0.8468 - val_loss: 0.4194 - val_accuracy: 0.8391\n",
      "Epoch 20/50\n",
      "536/536 [==============================] - 1s 2ms/step - loss: 0.3817 - accuracy: 0.8447 - val_loss: 0.4062 - val_accuracy: 0.8376\n",
      "Epoch 21/50\n",
      "536/536 [==============================] - 1s 2ms/step - loss: 0.3728 - accuracy: 0.8483 - val_loss: 0.4025 - val_accuracy: 0.8395\n",
      "Epoch 22/50\n",
      "536/536 [==============================] - 1s 2ms/step - loss: 0.3675 - accuracy: 0.8503 - val_loss: 0.4058 - val_accuracy: 0.8379\n",
      "Epoch 23/50\n",
      "536/536 [==============================] - 1s 2ms/step - loss: 0.3657 - accuracy: 0.8485 - val_loss: 0.4141 - val_accuracy: 0.8372\n",
      "Epoch 24/50\n",
      "536/536 [==============================] - 1s 2ms/step - loss: 0.3639 - accuracy: 0.8481 - val_loss: 0.4070 - val_accuracy: 0.8391\n",
      "Epoch 25/50\n",
      "536/536 [==============================] - 1s 2ms/step - loss: 0.3618 - accuracy: 0.8515 - val_loss: 0.4029 - val_accuracy: 0.8379\n",
      "Epoch 26/50\n",
      "536/536 [==============================] - 1s 2ms/step - loss: 0.3628 - accuracy: 0.8509 - val_loss: 0.4107 - val_accuracy: 0.8391\n",
      "Epoch 27/50\n",
      "536/536 [==============================] - 1s 2ms/step - loss: 0.3650 - accuracy: 0.8513 - val_loss: 0.4286 - val_accuracy: 0.8410\n",
      "Epoch 28/50\n",
      "536/536 [==============================] - 1s 2ms/step - loss: 0.3620 - accuracy: 0.8535 - val_loss: 0.4179 - val_accuracy: 0.8406\n",
      "Epoch 29/50\n",
      "536/536 [==============================] - 1s 2ms/step - loss: 0.3567 - accuracy: 0.8511 - val_loss: 0.4111 - val_accuracy: 0.8357\n",
      "Epoch 30/50\n",
      "536/536 [==============================] - 1s 2ms/step - loss: 0.3572 - accuracy: 0.8546 - val_loss: 0.4202 - val_accuracy: 0.8402\n",
      "Epoch 31/50\n",
      "536/536 [==============================] - 1s 2ms/step - loss: 0.3564 - accuracy: 0.8558 - val_loss: 0.4195 - val_accuracy: 0.8379\n",
      "Epoch 32/50\n",
      "536/536 [==============================] - 1s 2ms/step - loss: 0.3570 - accuracy: 0.8548 - val_loss: 0.3886 - val_accuracy: 0.8429\n",
      "Epoch 33/50\n",
      "536/536 [==============================] - 1s 2ms/step - loss: 0.3563 - accuracy: 0.8558 - val_loss: 0.4186 - val_accuracy: 0.8379\n",
      "Epoch 34/50\n",
      "536/536 [==============================] - 1s 2ms/step - loss: 0.3562 - accuracy: 0.8550 - val_loss: 0.4256 - val_accuracy: 0.8402\n",
      "Epoch 35/50\n",
      "536/536 [==============================] - 1s 2ms/step - loss: 0.3571 - accuracy: 0.8595 - val_loss: 0.4140 - val_accuracy: 0.8406\n",
      "Epoch 36/50\n",
      "536/536 [==============================] - 1s 2ms/step - loss: 0.3529 - accuracy: 0.8574 - val_loss: 0.4345 - val_accuracy: 0.8402\n",
      "Epoch 37/50\n",
      "536/536 [==============================] - 1s 2ms/step - loss: 0.3554 - accuracy: 0.8574 - val_loss: 0.4177 - val_accuracy: 0.8413\n",
      "Epoch 38/50\n",
      "536/536 [==============================] - 1s 2ms/step - loss: 0.3530 - accuracy: 0.8558 - val_loss: 0.4167 - val_accuracy: 0.8398\n",
      "Epoch 39/50\n",
      "536/536 [==============================] - 1s 2ms/step - loss: 0.3547 - accuracy: 0.8578 - val_loss: 0.4193 - val_accuracy: 0.8398\n",
      "Epoch 40/50\n",
      "536/536 [==============================] - 1s 2ms/step - loss: 0.3554 - accuracy: 0.8561 - val_loss: 0.4134 - val_accuracy: 0.8395\n",
      "Epoch 41/50\n",
      "536/536 [==============================] - 1s 2ms/step - loss: 0.3571 - accuracy: 0.8582 - val_loss: 0.4217 - val_accuracy: 0.8410\n",
      "Epoch 42/50\n",
      "536/536 [==============================] - 1s 2ms/step - loss: 0.3586 - accuracy: 0.8565 - val_loss: 0.4332 - val_accuracy: 0.8417\n",
      "Epoch 43/50\n",
      "536/536 [==============================] - 1s 2ms/step - loss: 0.3581 - accuracy: 0.8582 - val_loss: 0.4499 - val_accuracy: 0.8410\n",
      "Epoch 44/50\n",
      "536/536 [==============================] - 1s 2ms/step - loss: 0.3550 - accuracy: 0.8591 - val_loss: 0.4336 - val_accuracy: 0.8402\n",
      "Epoch 45/50\n",
      "536/536 [==============================] - 1s 2ms/step - loss: 0.3552 - accuracy: 0.8582 - val_loss: 0.4442 - val_accuracy: 0.8425\n",
      "Epoch 46/50\n",
      "536/536 [==============================] - 1s 2ms/step - loss: 0.3545 - accuracy: 0.8604 - val_loss: 0.4408 - val_accuracy: 0.8410\n",
      "Epoch 47/50\n",
      "536/536 [==============================] - 1s 2ms/step - loss: 0.3535 - accuracy: 0.8543 - val_loss: 0.4265 - val_accuracy: 0.8402\n",
      "Epoch 48/50\n",
      "536/536 [==============================] - 1s 2ms/step - loss: 0.3568 - accuracy: 0.8571 - val_loss: 0.4216 - val_accuracy: 0.8402\n",
      "Epoch 49/50\n",
      "536/536 [==============================] - 1s 2ms/step - loss: 0.3527 - accuracy: 0.8572 - val_loss: 0.4237 - val_accuracy: 0.8417\n",
      "Epoch 50/50\n",
      "536/536 [==============================] - 1s 2ms/step - loss: 0.3494 - accuracy: 0.8587 - val_loss: 0.4202 - val_accuracy: 0.8436\n"
     ]
    }
   ],
   "source": [
    "model_history=classifier.fit(X_train,y_train,validation_split=0.33,batch_size=10,epochs=50)"
   ]
  },
  {
   "cell_type": "code",
   "execution_count": 16,
   "metadata": {
    "colab": {
     "base_uri": "https://localhost:8080/"
    },
    "id": "Q9t_M4wICTTz",
    "outputId": "18fa935a-8009-407f-de61-7f6a83669624"
   },
   "outputs": [
    {
     "name": "stdout",
     "output_type": "stream",
     "text": [
      "dict_keys(['loss', 'accuracy', 'val_loss', 'val_accuracy'])\n"
     ]
    }
   ],
   "source": [
    "# list all data in history\n",
    "\n",
    "print(model_history.history.keys())"
   ]
  },
  {
   "cell_type": "code",
   "execution_count": 17,
   "metadata": {
    "colab": {
     "base_uri": "https://localhost:8080/",
     "height": 295
    },
    "id": "MMOyiwzgBlLY",
    "outputId": "aeb29600-3c1f-41aa-9e29-05acf6011ed8"
   },
   "outputs": [
    {
     "data": {
      "image/png": "[encoded data removed]",
      "text/plain": [
       "<Figure size 432x288 with 1 Axes>"
      ]
     },
     "metadata": {
      "needs_background": "light"
     },
     "output_type": "display_data"
    }
   ],
   "source": [
    "\n",
    "# summarize history for accuracy\n",
    "plt.plot(model_history.history['accuracy'])\n",
    "plt.plot(model_history.history['val_accuracy'])\n",
    "plt.title('model accuracy')\n",
    "plt.ylabel('accuracy')\n",
    "plt.xlabel('epoch')\n",
    "plt.legend(['train', 'test'], loc='upper left')\n",
    "plt.show()"
   ]
  },
  {
   "cell_type": "code",
   "execution_count": 18,
   "metadata": {
    "colab": {
     "base_uri": "https://localhost:8080/",
     "height": 295
    },
    "id": "QH141RsQCEr0",
    "outputId": "4566dca0-b002-4f59-b6e8-f8654b414283"
   },
   "outputs": [
    {
     "data": {
      "image/png": "[encoded data removed]",
      "text/plain": [
       "<Figure size 432x288 with 1 Axes>"
      ]
     },
     "metadata": {
      "needs_background": "light"
     },
     "output_type": "display_data"
    }
   ],
   "source": [
    "# summarize history for loss\n",
    "plt.plot(model_history.history['loss'])\n",
    "plt.plot(model_history.history['val_loss'])\n",
    "plt.title('model loss')\n",
    "plt.ylabel('loss')\n",
    "plt.xlabel('epoch')\n",
    "plt.legend(['train', 'test'], loc='upper left')\n",
    "plt.show()"
   ]
  },
  {
   "cell_type": "code",
   "execution_count": 19,
   "metadata": {
    "id": "OYqCIIkDCd8S"
   },
   "outputs": [
    {
     "name": "stdout",
     "output_type": "stream",
     "text": [
      "63/63 [==============================] - 0s 894us/step\n"
     ]
    }
   ],
   "source": [
    "# Part 3 - Making the predictions and evaluating the model\n",
    "\n",
    "# Predicting the Test set results\n",
    "y_pred = classifier.predict(X_test)\n",
    "y_pred = (y_pred > 0.5)"
   ]
  },
  {
   "cell_type": "code",
   "execution_count": 20,
   "metadata": {
    "colab": {
     "base_uri": "https://localhost:8080/"
    },
    "id": "cm3EeOGTCi3-",
    "outputId": "f3cfe210-0811-4c4e-ce72-4100b32bb79f"
   },
   "outputs": [
    {
     "data": {
      "text/plain": [
       "array([[1519,   76],\n",
       "       [ 197,  208]], dtype=int64)"
      ]
     },
     "execution_count": 20,
     "metadata": {},
     "output_type": "execute_result"
    }
   ],
   "source": [
    "# Making the Confusion Matrix\n",
    "from sklearn.metrics import confusion_matrix\n",
    "cm = confusion_matrix(y_test, y_pred)\n",
    "cm"
   ]
  },
  {
   "cell_type": "code",
   "execution_count": 21,
   "metadata": {
    "id": "FgfRKzzOClmP"
   },
   "outputs": [],
   "source": [
    "# Calculate the Accuracy\n",
    "from sklearn.metrics import accuracy_score\n",
    "score=accuracy_score(y_pred,y_test)"
   ]
  },
  {
   "cell_type": "code",
   "execution_count": 22,
   "metadata": {
    "colab": {
     "base_uri": "https://localhost:8080/"
    },
    "id": "a_C5EETrCpSj",
    "outputId": "6e495c58-0149-453b-b0d6-592606fe5c80"
   },
   "outputs": [
    {
     "data": {
      "text/plain": [
       "0.8635"
      ]
     },
     "execution_count": 22,
     "metadata": {},
     "output_type": "execute_result"
    }
   ],
   "source": [
    "score"
   ]
  },
  {
   "cell_type": "code",
   "execution_count": null,
   "metadata": {
    "id": "UTvHAjYWCqWx"
   },
   "outputs": [],
   "source": []
  },
  {
   "cell_type": "code",
   "execution_count": null,
   "metadata": {},
   "outputs": [],
   "source": []
  }
 ],
 "metadata": {
  "colab": {
   "name": "Untitled63.ipynb",
   "provenance": []
  },
  "kernelspec": {
   "display_name": "Python 3 (ipykernel)",
   "language": "python",
   "name": "python3"
  },
  "language_info": {
   "codemirror_mode": {
    "name": "ipython",
    "version": 3
   },
   "file_extension": ".py",
   "mimetype": "text/x-python",
   "name": "python",
   "nbconvert_exporter": "python",
   "pygments_lexer": "ipython3",
   "version": "3.9.12"
  }
 },
 "nbformat": 4,
 "nbformat_minor": 1
}

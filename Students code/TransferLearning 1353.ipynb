{
 "cells": [
  {
   "cell_type": "code",
   "execution_count": 4,
   "id": "0c8c6201",
   "metadata": {},
   "outputs": [
    {
     "name": "stdout",
     "output_type": "stream",
     "text": [
      "Downloading data from https://www.cs.toronto.edu/~kriz/cifar-10-python.tar.gz\n",
      "170498071/170498071 [==============================] - 372s 2us/step\n",
      "Downloading data from https://storage.googleapis.com/tensorflow/keras-applications/resnet/resnet50_weights_tf_dim_ordering_tf_kernels_notop.h5\n",
      "94765736/94765736 [==============================] - 156s 2us/step\n",
      "Epoch 1/10\n",
      "1407/1407 [==============================] - 289s 200ms/step - loss: 2.0552 - accuracy: 0.2495 - val_loss: 1.9039 - val_accuracy: 0.2980\n",
      "Epoch 2/10\n",
      "1407/1407 [==============================] - 297s 211ms/step - loss: 1.8917 - accuracy: 0.3115 - val_loss: 1.8530 - val_accuracy: 0.3208\n",
      "Epoch 3/10\n",
      "1407/1407 [==============================] - 269s 191ms/step - loss: 1.8370 - accuracy: 0.3311 - val_loss: 1.7693 - val_accuracy: 0.3646\n",
      "Epoch 4/10\n",
      "1407/1407 [==============================] - 264s 188ms/step - loss: 1.7999 - accuracy: 0.3489 - val_loss: 1.7760 - val_accuracy: 0.3660\n",
      "Epoch 5/10\n",
      "1407/1407 [==============================] - 261s 185ms/step - loss: 1.7817 - accuracy: 0.3566 - val_loss: 1.7423 - val_accuracy: 0.3746\n",
      "Epoch 6/10\n",
      "1407/1407 [==============================] - 266s 189ms/step - loss: 1.7638 - accuracy: 0.3629 - val_loss: 1.7362 - val_accuracy: 0.3632\n",
      "Epoch 7/10\n",
      "1407/1407 [==============================] - 320s 227ms/step - loss: 1.7470 - accuracy: 0.3694 - val_loss: 1.6928 - val_accuracy: 0.3964\n",
      "Epoch 8/10\n",
      "1407/1407 [==============================] - 331s 235ms/step - loss: 1.7328 - accuracy: 0.3774 - val_loss: 1.6780 - val_accuracy: 0.3908\n",
      "Epoch 9/10\n",
      "1407/1407 [==============================] - 272s 193ms/step - loss: 1.7172 - accuracy: 0.3820 - val_loss: 1.6840 - val_accuracy: 0.3836\n",
      "Epoch 10/10\n",
      "1407/1407 [==============================] - 270s 192ms/step - loss: 1.7062 - accuracy: 0.3874 - val_loss: 1.6928 - val_accuracy: 0.3774\n",
      "313/313 [==============================] - 54s 171ms/step - loss: 1.7141 - accuracy: 0.3710\n",
      "Test loss: 1.7141\n",
      "Test accuracy: 0.3710\n"
     ]
    }
   ],
   "source": [
    "import tensorflow as tf\n",
    "from tensorflow import keras\n",
    "from tensorflow.keras.datasets import cifar10\n",
    "from tensorflow.keras.layers import Dense, Flatten\n",
    "from tensorflow.keras.models import Model\n",
    "\n",
    "# Load CIFAR-10 dataset\n",
    "(x_train, y_train), (x_test, y_test) = cifar10.load_data()\n",
    "\n",
    "# Normalize pixel values between 0 and 1\n",
    "x_train = x_train / 255.0\n",
    "x_test = x_test / 255.0\n",
    "\n",
    "# Split the data into training and validation sets\n",
    "x_train, x_val = x_train[:-5000], x_train[-5000:]\n",
    "y_train, y_val = y_train[:-5000], y_train[-5000:]\n",
    "\n",
    "# Define the base model\n",
    "base_model = keras.applications.ResNet50(\n",
    "    weights='imagenet',  # Use pre-trained weights\n",
    "    include_top=False,   # Exclude the fully-connected layers\n",
    "    input_shape=(32, 32, 3)\n",
    ")\n",
    "\n",
    "# Freeze the base model's layers\n",
    "base_model.trainable = False\n",
    "\n",
    "# Add custom classification layers\n",
    "flatten_layer = Flatten()(base_model.output)\n",
    "dense_layer = Dense(256, activation='relu')(flatten_layer)\n",
    "output_layer = Dense(10, activation='softmax')(dense_layer)\n",
    "\n",
    "# Create the model\n",
    "model = Model(inputs=base_model.input, outputs=output_layer)\n",
    "\n",
    "# Compile the model\n",
    "model.compile(optimizer='adam', loss='sparse_categorical_crossentropy', metrics=['accuracy'])\n",
    "\n",
    "# Train the model\n",
    "model.fit(x_train, y_train, epochs=10, batch_size=32, validation_data=(x_val, y_val))\n",
    "\n",
    "# Evaluate the model on the test set\n",
    "loss, accuracy = model.evaluate(x_test, y_test)\n",
    "print(f'Test loss: {loss:.4f}')\n",
    "print(f'Test accuracy: {accuracy:.4f}')\n"
   ]
  },
  {
   "cell_type": "code",
   "execution_count": null,
   "id": "63333fb6",
   "metadata": {},
   "outputs": [],
   "source": []
  },
  {
   "cell_type": "code",
   "execution_count": null,
   "id": "6e2dd066",
   "metadata": {},
   "outputs": [],
   "source": []
  },
  {
   "cell_type": "code",
   "execution_count": null,
   "id": "eaecc40d",
   "metadata": {},
   "outputs": [],
   "source": []
  },
  {
   "cell_type": "code",
   "execution_count": null,
   "id": "56318b03",
   "metadata": {},
   "outputs": [],
   "source": []
  }
 ],
 "metadata": {
  "kernelspec": {
   "display_name": "Python 3 (ipykernel)",
   "language": "python",
   "name": "python3"
  },
  "language_info": {
   "codemirror_mode": {
    "name": "ipython",
    "version": 3
   },
   "file_extension": ".py",
   "mimetype": "text/x-python",
   "name": "python",
   "nbconvert_exporter": "python",
   "pygments_lexer": "ipython3",
   "version": "3.9.13"
  }
 },
 "nbformat": 4,
 "nbformat_minor": 5
}
